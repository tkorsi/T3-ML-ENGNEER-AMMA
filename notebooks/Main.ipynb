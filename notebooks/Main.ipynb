{
 "cells": [
  {
   "cell_type": "code",
   "execution_count": 1,
   "id": "20a5bfa0-2db6-4f23-860e-fcd10597de04",
   "metadata": {},
   "outputs": [],
   "source": [
    "import pandas as pd\n",
    "\n",
    "# Read data from the Excel file\n",
    "data = pd.read_excel('raw_data.xlsx')"
   ]
  },
  {
   "cell_type": "code",
   "execution_count": 2,
   "id": "a73fa8d9-dc21-446f-ac7e-cfd77a8bb056",
   "metadata": {},
   "outputs": [
    {
     "name": "stdout",
     "output_type": "stream",
     "text": [
      "Data shape: (63231, 34)\n",
      "                timestamp      x1        x2        x3  x4  x5  x6  x7  \\\n",
      "0 2020-03-16 00:01:11.974  medium  1.199567  0.198783   2   0  19 -25   \n",
      "1 2020-03-16 00:01:20.332  medium  1.338867  0.138917  16   0  22 -14   \n",
      "2 2020-03-16 00:01:27.014  medium  1.450233  0.111100 -16   1   9 -16   \n",
      "3 2020-03-16 00:01:36.200  medium  1.603333  0.152917 -21  16   9 -25   \n",
      "4 2020-03-16 00:01:39.376  medium  1.656267  0.052800  -1  11  14 -16   \n",
      "\n",
      "         x8        x9  ...  x24  x25        x26      x27     x28      x29  \\\n",
      "0  24500000  36550000  ...  0.0  0.0  18.136364        0       0   500000   \n",
      "1  19000000  40000000  ...  0.0  0.0  17.421686  1500000       0  2000000   \n",
      "2  15500000  28200000  ...  0.0  0.0  17.503649        0       0  3500000   \n",
      "3  19500000  33100000  ...  0.0  0.0  15.133758        0  500000   500000   \n",
      "4  14900000  28368000  ...  0.0  0.0  17.166666        0       0  1000000   \n",
      "\n",
      "   x30  x31      x32      x33  \n",
      "0    0    0  1500000  -47.261  \n",
      "1    0    0  1000000 -125.716  \n",
      "2    0    0  1500000  -61.387  \n",
      "3    0    0  2500000  -91.436  \n",
      "4    0    0  2500000  -32.332  \n",
      "\n",
      "[5 rows x 34 columns]\n"
     ]
    }
   ],
   "source": [
    "print('Data shape:', data.shape)\n",
    "print(data.head())"
   ]
  },
  {
   "cell_type": "code",
   "execution_count": 3,
   "id": "ce945a61-3a22-434e-98bc-c6451bc50388",
   "metadata": {},
   "outputs": [
    {
     "name": "stdout",
     "output_type": "stream",
     "text": [
      "Data shape: (63231, 33)\n"
     ]
    }
   ],
   "source": [
    "data = data.drop(['timestamp'], axis=1)\n",
    "print('Data shape:', data.shape)\n"
   ]
  },
  {
   "cell_type": "code",
   "execution_count": 4,
   "id": "4a64b4b0-fca5-4146-8d15-1cb01eb73383",
   "metadata": {},
   "outputs": [
    {
     "name": "stdout",
     "output_type": "stream",
     "text": [
      "x1     0\n",
      "x2     0\n",
      "x3     0\n",
      "x4     0\n",
      "x5     0\n",
      "x6     0\n",
      "x7     0\n",
      "x8     0\n",
      "x9     0\n",
      "x10    0\n",
      "x11    0\n",
      "x12    0\n",
      "x13    0\n",
      "x14    0\n",
      "x15    0\n",
      "x16    0\n",
      "x17    0\n",
      "x18    0\n",
      "x19    0\n",
      "x20    0\n",
      "x21    0\n",
      "x22    0\n",
      "x23    0\n",
      "x24    0\n",
      "x25    0\n",
      "x26    0\n",
      "x27    0\n",
      "x28    0\n",
      "x29    0\n",
      "x30    0\n",
      "x31    0\n",
      "x32    0\n",
      "x33    0\n",
      "dtype: int64\n"
     ]
    }
   ],
   "source": [
    "# Check for missing values\n",
    "print(data.isnull().sum())"
   ]
  },
  {
   "cell_type": "code",
   "execution_count": 5,
   "id": "3773e7f6-bf1f-47e5-80fd-f8e3fcd0681e",
   "metadata": {},
   "outputs": [
    {
     "data": {
      "text/plain": [
       "<bound method NDFrame.head of            x1           x2        x3  x4  x5  x6  x7        x8        x9  x10  \\\n",
       "0      medium     1.199567  0.198783   2   0  19 -25  24500000  36550000   43   \n",
       "1      medium     1.338867  0.138917  16   0  22 -14  19000000  40000000   34   \n",
       "2      medium     1.450233  0.111100 -16   1   9 -16  15500000  28200000   28   \n",
       "3      medium     1.603333  0.152917 -21  16   9 -25  19500000  33100000   34   \n",
       "4      medium     1.656267  0.052800  -1  11  14 -16  14900000  28368000   29   \n",
       "...       ...          ...       ...  ..  ..  ..  ..       ...       ...  ...   \n",
       "63226  medium  1204.058100  0.644683 -25  -3   4 -44  42025000  47934000   66   \n",
       "63227  medium  1205.160600  1.102483  -6  -9  10 -16  34000000  41437000   49   \n",
       "63228  medium  1205.694000  0.533117  13   1  16  -6  18900000  30270000   31   \n",
       "63229  medium  1205.934000  0.239050   3   1  19 -22  20000000  34170000   28   \n",
       "63230  medium  1206.578900  0.644533 -11  -6   3 -22  13000000  37501000   21   \n",
       "\n",
       "       ...       x24       x25        x26      x27      x28      x29  x30  \\\n",
       "0      ...  0.000000  0.000000  18.136364        0        0   500000    0   \n",
       "1      ...  0.000000  0.000000  17.421686  1500000        0  2000000    0   \n",
       "2      ...  0.000000  0.000000  17.503649        0        0  3500000    0   \n",
       "3      ...  0.000000  0.000000  15.133758        0   500000   500000    0   \n",
       "4      ...  0.000000  0.000000  17.166666        0        0  1000000    0   \n",
       "...    ...       ...       ...        ...      ...      ...      ...  ...   \n",
       "63226  ...  0.495798  0.705882  15.017858        0        0  1500000    0   \n",
       "63227  ...  0.369748  0.632353  14.126373        0        0  2000000    0   \n",
       "63228  ...  0.487395  0.693467  14.468966        0        0        0    0   \n",
       "63229  ...  0.521008  0.698413  11.739130  1500000  1997000        0    0   \n",
       "63230  ...  0.378151  0.608466  11.669291        0        0   500000    0   \n",
       "\n",
       "       x31      x32      x33  \n",
       "0        0  1500000  -47.261  \n",
       "1        0  1000000 -125.716  \n",
       "2        0  1500000  -61.387  \n",
       "3        0  2500000  -91.436  \n",
       "4        0  2500000  -32.332  \n",
       "...    ...      ...      ...  \n",
       "63226    0   500000    0.857  \n",
       "63227    0  2494000    0.710  \n",
       "63228    0  2000000    3.722  \n",
       "63229    0  1500000   11.745  \n",
       "63230    0   500000   32.524  \n",
       "\n",
       "[63231 rows x 33 columns]>"
      ]
     },
     "execution_count": 5,
     "metadata": {},
     "output_type": "execute_result"
    }
   ],
   "source": [
    "data.head"
   ]
  },
  {
   "cell_type": "markdown",
   "id": "fe109250-ea32-4ef1-b360-eea753283df5",
   "metadata": {},
   "source": [
    "# Great! Since data has no missing values in any of the columns, proceed directly to the next steps in preparing for training the CNN"
   ]
  },
  {
   "cell_type": "code",
   "execution_count": 11,
   "id": "a157cc74-2680-4883-a7f2-ee0f2feb7239",
   "metadata": {},
   "outputs": [
    {
     "name": "stdout",
     "output_type": "stream",
     "text": [
      "Number of categories in x1: 3\n",
      "Categories: ['medium' 'low' 'high']\n"
     ]
    }
   ],
   "source": [
    "# Get unique categories in x1\n",
    "categories = data['x1'].unique()\n",
    "num_categories = len(categories)\n",
    "print(f'Number of categories in x1: {num_categories}')\n",
    "print(f'Categories: {categories}')\n",
    "\n"
   ]
  },
  {
   "cell_type": "code",
   "execution_count": 12,
   "id": "07561bb2-4a86-4f70-abf1-ffb59a8b96e4",
   "metadata": {},
   "outputs": [],
   "source": [
    "# One-hot encode the 'x1' column\n",
    "data = pd.get_dummies(data, columns=['x1'])\n"
   ]
  },
  {
   "cell_type": "code",
   "execution_count": 16,
   "id": "5275f9ac-810f-4971-acad-c46099a59e13",
   "metadata": {},
   "outputs": [],
   "source": [
    "from sklearn.preprocessing import MinMaxScaler\n",
    "\n",
    "scaler = MinMaxScaler()\n",
    "\n",
    "# Fit the scaler to the data and transform\n",
    "data_scaled = scaler.fit_transform(data)\n",
    "\n",
    "# Convert the scaled data back to a DataFrame\n",
    "data_scaled = pd.DataFrame(data_scaled, columns=data.columns)"
   ]
  },
  {
   "cell_type": "markdown",
   "id": "c0b40c87-4a46-4f23-9837-a72ba5bb5925",
   "metadata": {},
   "source": [
    "# Create Input Sequences and Targets"
   ]
  },
  {
   "cell_type": "code",
   "execution_count": 18,
   "id": "974086fa-b86a-4cd8-87fe-ede5ccb383d5",
   "metadata": {},
   "outputs": [
    {
     "name": "stdout",
     "output_type": "stream",
     "text": [
      "X shape: (63199, 32, 35)\n",
      "y shape: (63199, 35)\n"
     ]
    }
   ],
   "source": [
    "import numpy as np\n",
    "\n",
    "sequence_length = 32\n",
    "X = []\n",
    "y = []\n",
    "\n",
    "for i in range(len(data_scaled) - sequence_length):\n",
    "    X.append(data_scaled.iloc[i:i+sequence_length].values)\n",
    "    y.append(data_scaled.iloc[i+sequence_length].values)\n",
    "\n",
    "X = np.array(X)\n",
    "y = np.array(y)\n",
    "\n",
    "print('X shape:', X.shape)  # Expected: (samples, 32, num_features)\n",
    "print('y shape:', y.shape)  # Expected: (samples, num_features)"
   ]
  },
  {
   "cell_type": "code",
   "execution_count": null,
   "id": "0b61331a-65e0-40f1-871d-0be9d6db3194",
   "metadata": {},
   "outputs": [],
   "source": []
  }
 ],
 "metadata": {
  "kernelspec": {
   "display_name": "Python 3 (ipykernel)",
   "language": "python",
   "name": "python3"
  },
  "language_info": {
   "codemirror_mode": {
    "name": "ipython",
    "version": 3
   },
   "file_extension": ".py",
   "mimetype": "text/x-python",
   "name": "python",
   "nbconvert_exporter": "python",
   "pygments_lexer": "ipython3",
   "version": "3.9.6"
  }
 },
 "nbformat": 4,
 "nbformat_minor": 5
}
