{
  "cells": [
    {
      "cell_type": "code",
      "source": [
        "# Step 1: Clone the repository\n",
        "!git clone https://github.com/tkorsi/T3-ML-ENGNEER-AMMA.git\n"
      ],
      "metadata": {
        "id": "FGm45MzhFh7_",
        "outputId": "a36beb1f-97a9-457d-da49-995ca0029e59",
        "colab": {
          "base_uri": "https://localhost:8080/"
        }
      },
      "id": "FGm45MzhFh7_",
      "execution_count": 24,
      "outputs": [
        {
          "output_type": "stream",
          "name": "stdout",
          "text": [
            "fatal: destination path 'T3-ML-ENGNEER-AMMA' already exists and is not an empty directory.\n"
          ]
        }
      ]
    },
    {
      "cell_type": "code",
      "execution_count": 39,
      "id": "20a5bfa0-2db6-4f23-860e-fcd10597de04",
      "metadata": {
        "id": "20a5bfa0-2db6-4f23-860e-fcd10597de04"
      },
      "outputs": [],
      "source": [
        "import pandas as pd\n",
        "import numpy as np\n",
        "\n",
        "# Read data from the Excel file\n",
        "data = pd.read_excel('T3-ML-ENGNEER-AMMA/data/raw_data.xlsx')"
      ]
    },
    {
      "cell_type": "code",
      "execution_count": 40,
      "id": "a73fa8d9-dc21-446f-ac7e-cfd77a8bb056",
      "metadata": {
        "id": "a73fa8d9-dc21-446f-ac7e-cfd77a8bb056",
        "outputId": "679411c5-d2e9-4bb9-e4a9-a78673d76e87",
        "colab": {
          "base_uri": "https://localhost:8080/"
        }
      },
      "outputs": [
        {
          "output_type": "stream",
          "name": "stdout",
          "text": [
            "Data shape: (63231, 34)\n",
            "                timestamp      x1        x2        x3  x4  x5  x6  x7  \\\n",
            "0 2020-03-16 00:01:11.974  medium  1.199567  0.198783   2   0  19 -25   \n",
            "1 2020-03-16 00:01:20.332  medium  1.338867  0.138917  16   0  22 -14   \n",
            "2 2020-03-16 00:01:27.014  medium  1.450233  0.111100 -16   1   9 -16   \n",
            "3 2020-03-16 00:01:36.200  medium  1.603333  0.152917 -21  16   9 -25   \n",
            "4 2020-03-16 00:01:39.376  medium  1.656267  0.052800  -1  11  14 -16   \n",
            "\n",
            "         x8        x9  ...  x24  x25        x26      x27     x28      x29  \\\n",
            "0  24500000  36550000  ...  0.0  0.0  18.136364        0       0   500000   \n",
            "1  19000000  40000000  ...  0.0  0.0  17.421686  1500000       0  2000000   \n",
            "2  15500000  28200000  ...  0.0  0.0  17.503649        0       0  3500000   \n",
            "3  19500000  33100000  ...  0.0  0.0  15.133758        0  500000   500000   \n",
            "4  14900000  28368000  ...  0.0  0.0  17.166666        0       0  1000000   \n",
            "\n",
            "   x30  x31      x32      x33  \n",
            "0    0    0  1500000  -47.261  \n",
            "1    0    0  1000000 -125.716  \n",
            "2    0    0  1500000  -61.387  \n",
            "3    0    0  2500000  -91.436  \n",
            "4    0    0  2500000  -32.332  \n",
            "\n",
            "[5 rows x 34 columns]\n"
          ]
        }
      ],
      "source": [
        "print('Data shape:', data.shape)\n",
        "print(data.head())"
      ]
    },
    {
      "cell_type": "code",
      "source": [
        "print(data.tail())"
      ],
      "metadata": {
        "id": "1uDPZMwb7acR",
        "outputId": "0fb29654-ddf6-46f7-d06e-2001d7f584c6",
        "colab": {
          "base_uri": "https://localhost:8080/"
        }
      },
      "id": "1uDPZMwb7acR",
      "execution_count": 41,
      "outputs": [
        {
          "output_type": "stream",
          "name": "stdout",
          "text": [
            "                    timestamp      x1         x2        x3  x4  x5  x6  x7  \\\n",
            "63226 2020-03-20 20:04:03.486  medium  1204.0581  0.644683 -25  -3   4 -44   \n",
            "63227 2020-03-20 20:05:09.638  medium  1205.1606  1.102483  -6  -9  10 -16   \n",
            "63228 2020-03-20 20:05:41.640  medium  1205.6940  0.533117  13   1  16  -6   \n",
            "63229 2020-03-20 20:05:56.036  medium  1205.9340  0.239050   3   1  19 -22   \n",
            "63230 2020-03-20 20:06:34.735  medium  1206.5789  0.644533 -11  -6   3 -22   \n",
            "\n",
            "             x8        x9  ...       x24       x25        x26      x27  \\\n",
            "63226  42025000  47934000  ...  0.495798  0.705882  15.017858        0   \n",
            "63227  34000000  41437000  ...  0.369748  0.632353  14.126373        0   \n",
            "63228  18900000  30270000  ...  0.487395  0.693467  14.468966        0   \n",
            "63229  20000000  34170000  ...  0.521008  0.698413  11.739130  1500000   \n",
            "63230  13000000  37501000  ...  0.378151  0.608466  11.669291        0   \n",
            "\n",
            "           x28      x29  x30  x31      x32     x33  \n",
            "63226        0  1500000    0    0   500000   0.857  \n",
            "63227        0  2000000    0    0  2494000   0.710  \n",
            "63228        0        0    0    0  2000000   3.722  \n",
            "63229  1997000        0    0    0  1500000  11.745  \n",
            "63230        0   500000    0    0   500000  32.524  \n",
            "\n",
            "[5 rows x 34 columns]\n"
          ]
        }
      ]
    },
    {
      "cell_type": "markdown",
      "source": [
        "# Перевіримо що дані в отсортированому порядку і що розриви між таймстемпами не такі великі"
      ],
      "metadata": {
        "id": "5tYB4c4r7dYQ"
      },
      "id": "5tYB4c4r7dYQ"
    },
    {
      "cell_type": "code",
      "source": [
        "if not np.issubdtype(data['timestamp'].dtype, np.datetime64):\n",
        "  data['timestamp'] = pd.to_datetime(data['timestamp'])\n",
        "\n",
        "is_sorted = data['timestamp'].is_monotonic_increasing\n",
        "print(f\"Data is sorted by 'timestamp': {is_sorted}\")\n",
        "\n",
        "time_diffs = data['timestamp'].diff()\n",
        "\n",
        "# Exclude the first NaT value resulting from diff()\n",
        "time_diffs = time_diffs[1:]\n",
        "\n",
        "average_time_diff = time_diffs.mean()\n",
        "\n",
        "print(f\"Average time difference between rows: {average_time_diff}\")"
      ],
      "metadata": {
        "id": "ORhDZqjD7cTw",
        "outputId": "ff19f3ff-2402-4ee6-f010-0aa2449734ff",
        "colab": {
          "base_uri": "https://localhost:8080/"
        }
      },
      "id": "ORhDZqjD7cTw",
      "execution_count": 42,
      "outputs": [
        {
          "output_type": "stream",
          "name": "stdout",
          "text": [
            "Data is sorted by 'timestamp': True\n",
            "Average time difference between rows: 0 days 00:00:06.609564463\n"
          ]
        }
      ]
    },
    {
      "cell_type": "code",
      "execution_count": 36,
      "id": "ce945a61-3a22-434e-98bc-c6451bc50388",
      "metadata": {
        "id": "ce945a61-3a22-434e-98bc-c6451bc50388",
        "outputId": "260b7caa-904a-4b97-debd-9d82ce1b42a6",
        "colab": {
          "base_uri": "https://localhost:8080/"
        }
      },
      "outputs": [
        {
          "output_type": "stream",
          "name": "stdout",
          "text": [
            "Data shape: (63231, 33)\n"
          ]
        }
      ],
      "source": [
        "data = data.drop(['timestamp'], axis=1)\n",
        "print('Data shape:', data.shape)\n"
      ]
    },
    {
      "cell_type": "code",
      "execution_count": null,
      "id": "4a64b4b0-fca5-4146-8d15-1cb01eb73383",
      "metadata": {
        "id": "4a64b4b0-fca5-4146-8d15-1cb01eb73383",
        "outputId": "988a508d-01ef-4a70-eb33-b10537aced08",
        "colab": {
          "base_uri": "https://localhost:8080/"
        }
      },
      "outputs": [
        {
          "output_type": "stream",
          "name": "stdout",
          "text": [
            "x1     0\n",
            "x2     0\n",
            "x3     0\n",
            "x4     0\n",
            "x5     0\n",
            "x6     0\n",
            "x7     0\n",
            "x8     0\n",
            "x9     0\n",
            "x10    0\n",
            "x11    0\n",
            "x12    0\n",
            "x13    0\n",
            "x14    0\n",
            "x15    0\n",
            "x16    0\n",
            "x17    0\n",
            "x18    0\n",
            "x19    0\n",
            "x20    0\n",
            "x21    0\n",
            "x22    0\n",
            "x23    0\n",
            "x24    0\n",
            "x25    0\n",
            "x26    0\n",
            "x27    0\n",
            "x28    0\n",
            "x29    0\n",
            "x30    0\n",
            "x31    0\n",
            "x32    0\n",
            "x33    0\n",
            "dtype: int64\n"
          ]
        }
      ],
      "source": [
        "# Check for missing values\n",
        "print(data.isnull().sum())"
      ]
    },
    {
      "cell_type": "markdown",
      "id": "fe109250-ea32-4ef1-b360-eea753283df5",
      "metadata": {
        "id": "fe109250-ea32-4ef1-b360-eea753283df5"
      },
      "source": [
        "# Чудово! Оскільки в даних немає відсутніх значень у жодній з колонок, можна продовжувати\n"
      ]
    },
    {
      "cell_type": "code",
      "execution_count": null,
      "id": "a157cc74-2680-4883-a7f2-ee0f2feb7239",
      "metadata": {
        "id": "a157cc74-2680-4883-a7f2-ee0f2feb7239",
        "outputId": "bf84f480-59b1-437b-d273-bf20a040ac44",
        "colab": {
          "base_uri": "https://localhost:8080/"
        }
      },
      "outputs": [
        {
          "output_type": "stream",
          "name": "stdout",
          "text": [
            "Number of categories in x1: 3\n",
            "Categories: ['medium' 'low' 'high']\n"
          ]
        }
      ],
      "source": [
        "# Get unique categories in x1\n",
        "categories = data['x1'].unique()\n",
        "num_categories = len(categories)\n",
        "print(f'Number of categories in x1: {num_categories}')\n",
        "print(f'Categories: {categories}')\n",
        "\n"
      ]
    },
    {
      "cell_type": "code",
      "execution_count": null,
      "id": "07561bb2-4a86-4f70-abf1-ffb59a8b96e4",
      "metadata": {
        "id": "07561bb2-4a86-4f70-abf1-ffb59a8b96e4"
      },
      "outputs": [],
      "source": [
        "# One-hot encode the 'x1' column\n",
        "data = pd.get_dummies(data, columns=['x1'])\n"
      ]
    },
    {
      "cell_type": "code",
      "execution_count": null,
      "id": "5275f9ac-810f-4971-acad-c46099a59e13",
      "metadata": {
        "id": "5275f9ac-810f-4971-acad-c46099a59e13"
      },
      "outputs": [],
      "source": [
        "from sklearn.preprocessing import MinMaxScaler\n",
        "\n",
        "scaler = MinMaxScaler()\n",
        "\n",
        "# Fit the scaler to the data and transform\n",
        "data_scaled = scaler.fit_transform(data)\n",
        "\n",
        "# Convert the scaled data back to a DataFrame\n",
        "data_scaled = pd.DataFrame(data_scaled, columns=data.columns)"
      ]
    },
    {
      "cell_type": "markdown",
      "id": "c0b40c87-4a46-4f23-9837-a72ba5bb5925",
      "metadata": {
        "id": "c0b40c87-4a46-4f23-9837-a72ba5bb5925"
      },
      "source": [
        "# Формування вхідних наборів даних\n",
        "\n"
      ]
    },
    {
      "cell_type": "code",
      "execution_count": null,
      "id": "974086fa-b86a-4cd8-87fe-ede5ccb383d5",
      "metadata": {
        "id": "974086fa-b86a-4cd8-87fe-ede5ccb383d5",
        "outputId": "075a1fe1-037d-494a-be53-101202873cf6",
        "colab": {
          "base_uri": "https://localhost:8080/"
        }
      },
      "outputs": [
        {
          "output_type": "stream",
          "name": "stdout",
          "text": [
            "X shape: (63199, 32, 35)\n",
            "y shape: (63199, 35)\n"
          ]
        }
      ],
      "source": [
        "import numpy as np\n",
        "\n",
        "sequence_length = 32\n",
        "X = []\n",
        "y = []\n",
        "\n",
        "for i in range(len(data_scaled) - sequence_length):\n",
        "    X.append(data_scaled.iloc[i:i+sequence_length].values)\n",
        "    y.append(data_scaled.iloc[i+sequence_length].values)\n",
        "\n",
        "X = np.array(X)\n",
        "y = np.array(y)\n",
        "\n",
        "print('X shape:', X.shape)  # Expected: (samples, 32, num_features)\n",
        "print('y shape:', y.shape)  # Expected: (samples, num_features)"
      ]
    },
    {
      "cell_type": "markdown",
      "source": [
        "# Цього не було в завданні, але я продемонструю як би я використовував ці данні для тренування CNN"
      ],
      "metadata": {
        "id": "r8fIRHWwF6pk"
      },
      "id": "r8fIRHWwF6pk"
    },
    {
      "cell_type": "code",
      "source": [
        "from sklearn.model_selection import train_test_split\n",
        "\n",
        "# Split the data without shuffling to preserve the time sequence\n",
        "X_train, X_test, y_train, y_test = train_test_split(\n",
        "    X, y, test_size=0.2, shuffle=False)\n",
        "\n",
        "# Check the shapes of the splits\n",
        "print('X_train shape:', X_train.shape)\n",
        "print('X_test shape:', X_test.shape)\n",
        "print('y_train shape:', y_train.shape)\n",
        "print('y_test shape:', y_test.shape)"
      ],
      "metadata": {
        "id": "4SdM-zU7F-4L",
        "outputId": "1c9cb5c5-6dc0-485e-e97e-59c3ce267ee6",
        "colab": {
          "base_uri": "https://localhost:8080/"
        }
      },
      "id": "4SdM-zU7F-4L",
      "execution_count": null,
      "outputs": [
        {
          "output_type": "stream",
          "name": "stdout",
          "text": [
            "X_train shape: (50559, 32, 35)\n",
            "X_test shape: (12640, 32, 35)\n",
            "y_train shape: (50559, 35)\n",
            "y_test shape: (12640, 35)\n"
          ]
        }
      ]
    },
    {
      "cell_type": "code",
      "source": [
        "from tensorflow.keras.models import Sequential\n",
        "from tensorflow.keras.layers import Conv1D, MaxPooling1D, Flatten, Dense\n",
        "\n",
        "num_features = X_train.shape[2]  # Updated number of features after encoding\n",
        "\n",
        "model = Sequential()\n",
        "model.add(Conv1D(filters=64, kernel_size=3, activation='relu',\n",
        "                 input_shape=(sequence_length, num_features)))\n",
        "model.add(MaxPooling1D(pool_size=2))\n",
        "model.add(Flatten())\n",
        "model.add(Dense(50, activation='relu'))\n",
        "model.add(Dense(num_features))  # Output layer matching the number of features\n",
        "\n",
        "model.compile(optimizer='adam', loss='mse')\n",
        "\n",
        "# Display the model summary\n",
        "model.summary()"
      ],
      "metadata": {
        "id": "xqm_xRQgGGQU",
        "outputId": "3f58c8ee-fc98-4299-efd6-aee08417e9b1",
        "colab": {
          "base_uri": "https://localhost:8080/",
          "height": 353
        }
      },
      "id": "xqm_xRQgGGQU",
      "execution_count": null,
      "outputs": [
        {
          "output_type": "stream",
          "name": "stderr",
          "text": [
            "/usr/local/lib/python3.10/dist-packages/keras/src/layers/convolutional/base_conv.py:107: UserWarning: Do not pass an `input_shape`/`input_dim` argument to a layer. When using Sequential models, prefer using an `Input(shape)` object as the first layer in the model instead.\n",
            "  super().__init__(activity_regularizer=activity_regularizer, **kwargs)\n"
          ]
        },
        {
          "output_type": "display_data",
          "data": {
            "text/plain": [
              "\u001b[1mModel: \"sequential\"\u001b[0m\n"
            ],
            "text/html": [
              "<pre style=\"white-space:pre;overflow-x:auto;line-height:normal;font-family:Menlo,'DejaVu Sans Mono',consolas,'Courier New',monospace\"><span style=\"font-weight: bold\">Model: \"sequential\"</span>\n",
              "</pre>\n"
            ]
          },
          "metadata": {}
        },
        {
          "output_type": "display_data",
          "data": {
            "text/plain": [
              "┏━━━━━━━━━━━━━━━━━━━━━━━━━━━━━━━━━━━━━━┳━━━━━━━━━━━━━━━━━━━━━━━━━━━━━┳━━━━━━━━━━━━━━━━━┓\n",
              "┃\u001b[1m \u001b[0m\u001b[1mLayer (type)                        \u001b[0m\u001b[1m \u001b[0m┃\u001b[1m \u001b[0m\u001b[1mOutput Shape               \u001b[0m\u001b[1m \u001b[0m┃\u001b[1m \u001b[0m\u001b[1m        Param #\u001b[0m\u001b[1m \u001b[0m┃\n",
              "┡━━━━━━━━━━━━━━━━━━━━━━━━━━━━━━━━━━━━━━╇━━━━━━━━━━━━━━━━━━━━━━━━━━━━━╇━━━━━━━━━━━━━━━━━┩\n",
              "│ conv1d (\u001b[38;5;33mConv1D\u001b[0m)                      │ (\u001b[38;5;45mNone\u001b[0m, \u001b[38;5;34m30\u001b[0m, \u001b[38;5;34m64\u001b[0m)              │           \u001b[38;5;34m6,784\u001b[0m │\n",
              "├──────────────────────────────────────┼─────────────────────────────┼─────────────────┤\n",
              "│ max_pooling1d (\u001b[38;5;33mMaxPooling1D\u001b[0m)         │ (\u001b[38;5;45mNone\u001b[0m, \u001b[38;5;34m15\u001b[0m, \u001b[38;5;34m64\u001b[0m)              │               \u001b[38;5;34m0\u001b[0m │\n",
              "├──────────────────────────────────────┼─────────────────────────────┼─────────────────┤\n",
              "│ flatten (\u001b[38;5;33mFlatten\u001b[0m)                    │ (\u001b[38;5;45mNone\u001b[0m, \u001b[38;5;34m960\u001b[0m)                 │               \u001b[38;5;34m0\u001b[0m │\n",
              "├──────────────────────────────────────┼─────────────────────────────┼─────────────────┤\n",
              "│ dense (\u001b[38;5;33mDense\u001b[0m)                        │ (\u001b[38;5;45mNone\u001b[0m, \u001b[38;5;34m50\u001b[0m)                  │          \u001b[38;5;34m48,050\u001b[0m │\n",
              "├──────────────────────────────────────┼─────────────────────────────┼─────────────────┤\n",
              "│ dense_1 (\u001b[38;5;33mDense\u001b[0m)                      │ (\u001b[38;5;45mNone\u001b[0m, \u001b[38;5;34m35\u001b[0m)                  │           \u001b[38;5;34m1,785\u001b[0m │\n",
              "└──────────────────────────────────────┴─────────────────────────────┴─────────────────┘\n"
            ],
            "text/html": [
              "<pre style=\"white-space:pre;overflow-x:auto;line-height:normal;font-family:Menlo,'DejaVu Sans Mono',consolas,'Courier New',monospace\">┏━━━━━━━━━━━━━━━━━━━━━━━━━━━━━━━━━━━━━━┳━━━━━━━━━━━━━━━━━━━━━━━━━━━━━┳━━━━━━━━━━━━━━━━━┓\n",
              "┃<span style=\"font-weight: bold\"> Layer (type)                         </span>┃<span style=\"font-weight: bold\"> Output Shape                </span>┃<span style=\"font-weight: bold\">         Param # </span>┃\n",
              "┡━━━━━━━━━━━━━━━━━━━━━━━━━━━━━━━━━━━━━━╇━━━━━━━━━━━━━━━━━━━━━━━━━━━━━╇━━━━━━━━━━━━━━━━━┩\n",
              "│ conv1d (<span style=\"color: #0087ff; text-decoration-color: #0087ff\">Conv1D</span>)                      │ (<span style=\"color: #00d7ff; text-decoration-color: #00d7ff\">None</span>, <span style=\"color: #00af00; text-decoration-color: #00af00\">30</span>, <span style=\"color: #00af00; text-decoration-color: #00af00\">64</span>)              │           <span style=\"color: #00af00; text-decoration-color: #00af00\">6,784</span> │\n",
              "├──────────────────────────────────────┼─────────────────────────────┼─────────────────┤\n",
              "│ max_pooling1d (<span style=\"color: #0087ff; text-decoration-color: #0087ff\">MaxPooling1D</span>)         │ (<span style=\"color: #00d7ff; text-decoration-color: #00d7ff\">None</span>, <span style=\"color: #00af00; text-decoration-color: #00af00\">15</span>, <span style=\"color: #00af00; text-decoration-color: #00af00\">64</span>)              │               <span style=\"color: #00af00; text-decoration-color: #00af00\">0</span> │\n",
              "├──────────────────────────────────────┼─────────────────────────────┼─────────────────┤\n",
              "│ flatten (<span style=\"color: #0087ff; text-decoration-color: #0087ff\">Flatten</span>)                    │ (<span style=\"color: #00d7ff; text-decoration-color: #00d7ff\">None</span>, <span style=\"color: #00af00; text-decoration-color: #00af00\">960</span>)                 │               <span style=\"color: #00af00; text-decoration-color: #00af00\">0</span> │\n",
              "├──────────────────────────────────────┼─────────────────────────────┼─────────────────┤\n",
              "│ dense (<span style=\"color: #0087ff; text-decoration-color: #0087ff\">Dense</span>)                        │ (<span style=\"color: #00d7ff; text-decoration-color: #00d7ff\">None</span>, <span style=\"color: #00af00; text-decoration-color: #00af00\">50</span>)                  │          <span style=\"color: #00af00; text-decoration-color: #00af00\">48,050</span> │\n",
              "├──────────────────────────────────────┼─────────────────────────────┼─────────────────┤\n",
              "│ dense_1 (<span style=\"color: #0087ff; text-decoration-color: #0087ff\">Dense</span>)                      │ (<span style=\"color: #00d7ff; text-decoration-color: #00d7ff\">None</span>, <span style=\"color: #00af00; text-decoration-color: #00af00\">35</span>)                  │           <span style=\"color: #00af00; text-decoration-color: #00af00\">1,785</span> │\n",
              "└──────────────────────────────────────┴─────────────────────────────┴─────────────────┘\n",
              "</pre>\n"
            ]
          },
          "metadata": {}
        },
        {
          "output_type": "display_data",
          "data": {
            "text/plain": [
              "\u001b[1m Total params: \u001b[0m\u001b[38;5;34m56,619\u001b[0m (221.17 KB)\n"
            ],
            "text/html": [
              "<pre style=\"white-space:pre;overflow-x:auto;line-height:normal;font-family:Menlo,'DejaVu Sans Mono',consolas,'Courier New',monospace\"><span style=\"font-weight: bold\"> Total params: </span><span style=\"color: #00af00; text-decoration-color: #00af00\">56,619</span> (221.17 KB)\n",
              "</pre>\n"
            ]
          },
          "metadata": {}
        },
        {
          "output_type": "display_data",
          "data": {
            "text/plain": [
              "\u001b[1m Trainable params: \u001b[0m\u001b[38;5;34m56,619\u001b[0m (221.17 KB)\n"
            ],
            "text/html": [
              "<pre style=\"white-space:pre;overflow-x:auto;line-height:normal;font-family:Menlo,'DejaVu Sans Mono',consolas,'Courier New',monospace\"><span style=\"font-weight: bold\"> Trainable params: </span><span style=\"color: #00af00; text-decoration-color: #00af00\">56,619</span> (221.17 KB)\n",
              "</pre>\n"
            ]
          },
          "metadata": {}
        },
        {
          "output_type": "display_data",
          "data": {
            "text/plain": [
              "\u001b[1m Non-trainable params: \u001b[0m\u001b[38;5;34m0\u001b[0m (0.00 B)\n"
            ],
            "text/html": [
              "<pre style=\"white-space:pre;overflow-x:auto;line-height:normal;font-family:Menlo,'DejaVu Sans Mono',consolas,'Courier New',monospace\"><span style=\"font-weight: bold\"> Non-trainable params: </span><span style=\"color: #00af00; text-decoration-color: #00af00\">0</span> (0.00 B)\n",
              "</pre>\n"
            ]
          },
          "metadata": {}
        }
      ]
    },
    {
      "cell_type": "code",
      "source": [
        "history = model.fit(\n",
        "    X_train, y_train,\n",
        "    epochs=10,\n",
        "    batch_size=32,\n",
        "    validation_data=(X_test, y_test)\n",
        ")\n"
      ],
      "metadata": {
        "id": "jg-TyRhpGMOw",
        "outputId": "d3ba8252-6c00-4b9d-d59f-99781d9340fd",
        "colab": {
          "base_uri": "https://localhost:8080/"
        }
      },
      "id": "jg-TyRhpGMOw",
      "execution_count": null,
      "outputs": [
        {
          "output_type": "stream",
          "name": "stdout",
          "text": [
            "Epoch 1/10\n",
            "\u001b[1m1580/1580\u001b[0m \u001b[32m━━━━━━━━━━━━━━━━━━━━\u001b[0m\u001b[37m\u001b[0m \u001b[1m13s\u001b[0m 7ms/step - loss: 0.0104 - val_loss: 0.0017\n",
            "Epoch 2/10\n",
            "\u001b[1m1580/1580\u001b[0m \u001b[32m━━━━━━━━━━━━━━━━━━━━\u001b[0m\u001b[37m\u001b[0m \u001b[1m10s\u001b[0m 6ms/step - loss: 0.0022 - val_loss: 0.0015\n",
            "Epoch 3/10\n",
            "\u001b[1m1580/1580\u001b[0m \u001b[32m━━━━━━━━━━━━━━━━━━━━\u001b[0m\u001b[37m\u001b[0m \u001b[1m11s\u001b[0m 7ms/step - loss: 0.0020 - val_loss: 0.0013\n",
            "Epoch 4/10\n",
            "\u001b[1m1580/1580\u001b[0m \u001b[32m━━━━━━━━━━━━━━━━━━━━\u001b[0m\u001b[37m\u001b[0m \u001b[1m21s\u001b[0m 7ms/step - loss: 0.0019 - val_loss: 0.0013\n",
            "Epoch 5/10\n",
            "\u001b[1m1580/1580\u001b[0m \u001b[32m━━━━━━━━━━━━━━━━━━━━\u001b[0m\u001b[37m\u001b[0m \u001b[1m27s\u001b[0m 11ms/step - loss: 0.0019 - val_loss: 0.0013\n",
            "Epoch 6/10\n",
            "\u001b[1m1580/1580\u001b[0m \u001b[32m━━━━━━━━━━━━━━━━━━━━\u001b[0m\u001b[37m\u001b[0m \u001b[1m11s\u001b[0m 7ms/step - loss: 0.0018 - val_loss: 0.0013\n",
            "Epoch 7/10\n",
            "\u001b[1m1580/1580\u001b[0m \u001b[32m━━━━━━━━━━━━━━━━━━━━\u001b[0m\u001b[37m\u001b[0m \u001b[1m21s\u001b[0m 7ms/step - loss: 0.0017 - val_loss: 0.0013\n",
            "Epoch 8/10\n",
            "\u001b[1m1580/1580\u001b[0m \u001b[32m━━━━━━━━━━━━━━━━━━━━\u001b[0m\u001b[37m\u001b[0m \u001b[1m10s\u001b[0m 6ms/step - loss: 0.0018 - val_loss: 0.0013\n",
            "Epoch 9/10\n",
            "\u001b[1m1580/1580\u001b[0m \u001b[32m━━━━━━━━━━━━━━━━━━━━\u001b[0m\u001b[37m\u001b[0m \u001b[1m12s\u001b[0m 7ms/step - loss: 0.0017 - val_loss: 0.0012\n",
            "Epoch 10/10\n",
            "\u001b[1m1580/1580\u001b[0m \u001b[32m━━━━━━━━━━━━━━━━━━━━\u001b[0m\u001b[37m\u001b[0m \u001b[1m11s\u001b[0m 7ms/step - loss: 0.0017 - val_loss: 0.0013\n"
          ]
        }
      ]
    },
    {
      "cell_type": "code",
      "source": [
        "loss = model.evaluate(X_test, y_test)\n",
        "print(f'Test Loss: {loss}')"
      ],
      "metadata": {
        "id": "p4pAKyvrGUrh",
        "outputId": "87e3a0e7-c034-40b5-f5b4-386320824a4e",
        "colab": {
          "base_uri": "https://localhost:8080/"
        }
      },
      "id": "p4pAKyvrGUrh",
      "execution_count": null,
      "outputs": [
        {
          "output_type": "stream",
          "name": "stdout",
          "text": [
            "\u001b[1m395/395\u001b[0m \u001b[32m━━━━━━━━━━━━━━━━━━━━\u001b[0m\u001b[37m\u001b[0m \u001b[1m2s\u001b[0m 6ms/step - loss: 0.0013\n",
            "Test Loss: 0.0012598680332303047\n"
          ]
        }
      ]
    },
    {
      "cell_type": "code",
      "source": [
        "y_pred = model.predict(X_test)"
      ],
      "metadata": {
        "id": "kAqNYjq1GV1B",
        "outputId": "8a48e9a1-9205-46ab-a612-a144f47eec9b",
        "colab": {
          "base_uri": "https://localhost:8080/"
        }
      },
      "id": "kAqNYjq1GV1B",
      "execution_count": null,
      "outputs": [
        {
          "output_type": "stream",
          "name": "stdout",
          "text": [
            "\u001b[1m395/395\u001b[0m \u001b[32m━━━━━━━━━━━━━━━━━━━━\u001b[0m\u001b[37m\u001b[0m \u001b[1m1s\u001b[0m 2ms/step\n"
          ]
        }
      ]
    },
    {
      "cell_type": "code",
      "source": [
        "import matplotlib.pyplot as plt\n",
        "\n",
        "plt.figure(figsize=(8, 4))\n",
        "plt.plot(history.history['loss'], label='Train Loss')\n",
        "plt.plot(history.history['val_loss'], label='Validation Loss')\n",
        "plt.title('Model Loss During Training')\n",
        "plt.ylabel('Loss')\n",
        "plt.xlabel('Epoch')\n",
        "plt.legend()\n",
        "plt.show()\n"
      ],
      "metadata": {
        "id": "qPHibTTPGeCB",
        "outputId": "63459add-0d56-4f80-fdbc-ce3d357bba5e",
        "colab": {
          "base_uri": "https://localhost:8080/",
          "height": 410
        }
      },
      "id": "qPHibTTPGeCB",
      "execution_count": null,
      "outputs": [
        {
          "output_type": "display_data",
          "data": {
            "text/plain": [
              "<Figure size 800x400 with 1 Axes>"
            ],
            "image/png": "[encoded data removed]"
          },
          "metadata": {}
        }
      ]
    }
  ],
  "metadata": {
    "kernelspec": {
      "display_name": "Python 3 (ipykernel)",
      "language": "python",
      "name": "python3"
    },
    "language_info": {
      "codemirror_mode": {
        "name": "ipython",
        "version": 3
      },
      "file_extension": ".py",
      "mimetype": "text/x-python",
      "name": "python",
      "nbconvert_exporter": "python",
      "pygments_lexer": "ipython3",
      "version": "3.9.6"
    },
    "colab": {
      "provenance": []
    }
  },
  "nbformat": 4,
  "nbformat_minor": 5
}